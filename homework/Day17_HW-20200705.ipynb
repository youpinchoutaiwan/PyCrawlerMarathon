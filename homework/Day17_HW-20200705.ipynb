{
 "cells": [
  {
   "cell_type": "markdown",
   "metadata": {},
   "source": [
    "# 動態網頁與靜態網頁差別?\n",
    "靜態是透過每一個請求，後端回傳一個HTML網頁原始碼。請求回傳一對一，稱為同步。\n",
    "動態是透過AJAX技術完成非同步資料傳輸。任何時間都可以發送請求，後端傳回的資料非整個網頁。"
   ]
  },
  {
   "cell_type": "markdown",
   "metadata": {},
   "source": [
    "# 靜態網頁作法的問題或缺點\n",
    "後端回傳整個網頁，流量\n",
    "靜態適合用在簡單，更新不頻繁的網頁。動態適合內容大，更新快速地網頁。"
   ]
  },
  {
   "cell_type": "markdown",
   "metadata": {},
   "source": [
    "# 還記得我們在 ETTODAY 靜態爬蟲實作練習中，有請大家完成一個題目「取出今天所有的發文」，但仔細看其實並沒有真的把當天所有的新聞都抓回來， 試著回答看看原因是什麼？及該如何檢查？\n",
    "使用者發出請求，只會撈到一部分的資料。\n"
   ]
  },
  {
   "cell_type": "code",
   "execution_count": null,
   "metadata": {},
   "outputs": [],
   "source": []
  }
 ],
 "metadata": {
  "kernelspec": {
   "display_name": "Python 3",
   "language": "python",
   "name": "python3"
  },
  "language_info": {
   "codemirror_mode": {
    "name": "ipython",
    "version": 3
   },
   "file_extension": ".py",
   "mimetype": "text/x-python",
   "name": "python",
   "nbconvert_exporter": "python",
   "pygments_lexer": "ipython3",
   "version": "3.7.6"
  }
 },
 "nbformat": 4,
 "nbformat_minor": 4
}
