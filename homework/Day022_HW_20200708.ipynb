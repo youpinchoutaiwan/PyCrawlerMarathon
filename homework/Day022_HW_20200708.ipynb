{
 "cells": [
  {
   "cell_type": "markdown",
   "metadata": {},
   "source": [
    "# 使用 selenuim 取出 Hahow 網站中所有課程的資料，並用一個適合的資料結構儲存\n",
    "（Hint: 將所有資料存在一個變數當中取出）"
   ]
  },
  {
   "cell_type": "code",
   "execution_count": 8,
   "metadata": {},
   "outputs": [],
   "source": [
    "from selenium import webdriver\n",
    "from bs4 import BeautifulSoup\n",
    "\n",
    "browser=webdriver.Chrome(executable_path=\"chromedriver\")\n",
    "browser.get(\"https://hahow.in/courses\")"
   ]
  },
  {
   "cell_type": "code",
   "execution_count": 9,
   "metadata": {},
   "outputs": [],
   "source": [
    "#等瀏覽器出現後開始爬取資料\n",
    "A=browser.page_source\n",
    "soup=BeautifulSoup(A,\"html5lib\")"
   ]
  },
  {
   "cell_type": "code",
   "execution_count": 10,
   "metadata": {},
   "outputs": [
    {
     "name": "stdout",
     "output_type": "stream",
     "text": [
      "['Photoshop 合成必修 - 電影光影場景合成', 'Podcast 新手攻略課程：0 到 1 必學指南', '韓式香氛蠟燭 - 證照級蠟燭技法', 'Seagate 講堂 | 動態導演林呈軒教你做履歷', 'Seagate 講堂 | 平面設計師顏伯駿教你做履歷', 'Seagate 講堂 | 影像後製再現影像教你做履歷', '德文輕鬆學，零基礎也學得會的實用會話', '捲捲毛線球．汪星人報到！超擬真比熊&貴賓', '跑者必修！馬拉松完賽全方位跑典', '心智繪圖思考法：繪製你的思維地圖 ', '在家CEO！在家打造量身訂做的個人事業', '王永福教學的技術：翻轉課堂的職業講師祕訣', '職場英文即戰力 :  一步步打造最佳自學途徑', 'IG 風格策展人：創造你的光影烏托邦', '打造動態報表！雲端 Python 爬蟲資料流', '職場溝通管理學：打造團隊好關係與高績效', '深入淺出：專案管理方法-敏捷式開發 Scrum ', '超級業務員的絕學：輕鬆說服任何人的銷售課', '為什麼你的影音內容，OTT 平台不買單？', '遠端工作必備：跨國英語 con-call 實戰力', '產品 x 創新：從需求洞察到產品策略', '用影像收藏人生：學會拍片，認識自己', '大小數據如何協助影視創作', '出門好狗兒：抓住狗狗注意力，提升信任關係']\n"
     ]
    }
   ],
   "source": [
    "#把資料存取成集合\n",
    "courses=[]\n",
    "list=soup.find_all(\"h4\",class_=\"title\")\n",
    "for i in list:\n",
    "    courses.append(i.text)\n",
    "print(courses)"
   ]
  },
  {
   "cell_type": "markdown",
   "metadata": {},
   "source": [
    "# 剛剛的做法只能取出第一頁，試著取出所有頁面的資料。"
   ]
  },
  {
   "cell_type": "code",
   "execution_count": 11,
   "metadata": {},
   "outputs": [
    {
     "name": "stdout",
     "output_type": "stream",
     "text": [
      "['https://hahow.in/courses?page=1', 'https://hahow.in/courses?page=2', 'https://hahow.in/courses?page=3', 'https://hahow.in/courses?page=4', 'https://hahow.in/courses?page=5', 'https://hahow.in/courses?page=6', 'https://hahow.in/courses?page=7', 'https://hahow.in/courses?page=8', 'https://hahow.in/courses?page=9', 'https://hahow.in/courses?page=10', 'https://hahow.in/courses?page=11', 'https://hahow.in/courses?page=12', 'https://hahow.in/courses?page=13', 'https://hahow.in/courses?page=14', 'https://hahow.in/courses?page=15', 'https://hahow.in/courses?page=16', 'https://hahow.in/courses?page=17', 'https://hahow.in/courses?page=18', 'https://hahow.in/courses?page=19', 'https://hahow.in/courses?page=20', 'https://hahow.in/courses?page=21']\n"
     ]
    }
   ],
   "source": [
    "#先取出全部頁數\n",
    "import re\n",
    "page=soup.find_all(\"a\",href=re.compile(\"\\/courses\\?page=\"))[-2].text\n",
    "urls=[]\n",
    "for i in range(1,int(page)+1):\n",
    "    urls.append(\"https://hahow.in/courses?page=\"+str(i))\n",
    "print(urls)"
   ]
  },
  {
   "cell_type": "code",
   "execution_count": 13,
   "metadata": {},
   "outputs": [
    {
     "name": "stdout",
     "output_type": "stream",
     "text": [
      "['Photoshop 合成必修 - 電影光影場景合成', 'Podcast 新手攻略課程：0 到 1 必學指南', '韓式香氛蠟燭 - 證照級蠟燭技法', 'Seagate 講堂 | 動態導演林呈軒教你做履歷', 'Seagate 講堂 | 平面設計師顏伯駿教你做履歷', 'Seagate 講堂 | 影像後製再現影像教你做履歷', '德文輕鬆學，零基礎也學得會的實用會話', '捲捲毛線球．汪星人報到！超擬真比熊&貴賓', '跑者必修！馬拉松完賽全方位跑典', '心智繪圖思考法：繪製你的思維地圖 ', '在家CEO！在家打造量身訂做的個人事業', '王永福教學的技術：翻轉課堂的職業講師祕訣', '職場英文即戰力 :  一步步打造最佳自學途徑', 'IG 風格策展人：創造你的光影烏托邦', '打造動態報表！雲端 Python 爬蟲資料流', '職場溝通管理學：打造團隊好關係與高績效', '深入淺出：專案管理方法-敏捷式開發 Scrum ', '超級業務員的絕學：輕鬆說服任何人的銷售課', '為什麼你的影音內容，OTT 平台不買單？', '遠端工作必備：跨國英語 con-call 實戰力', '產品 x 創新：從需求洞察到產品策略', '用影像收藏人生：學會拍片，認識自己', '大小數據如何協助影視創作', '出門好狗兒：抓住狗狗注意力，提升信任關係', '低熱量馬卡龍自己做：韓國金老師的甜點時光', '產品思維：Spotify 產品經理帶你快速入門', '自學程式如何快速入門 - 以 Python/JS 為例', '說說刺繡：基礎到進階立體，此刻的煦色韶光', 'Katie 凱蒂流動瑜珈：啟動熱能，身心修復', '社會在走 面子要有-明星彩妝師的型男打造術', 'GTM 建置術：數位追蹤必備，代碼設定神器', '如何成為資料分析師：從問題解決到行動方案', '日常應用到舞台，Hold 住全場主持力', '開店一次搞定！餐廳創業最強生存攻略', '成為專業筆譯必備：商務日文翻譯力', '你的第一堂花藝課：一起來綁一束花吧！', '貓咪就醫減壓完全指南', '陳列設計：隱形的視覺傳銷學', '專業造型師技法在家學 - 新娘秘書養成班', '一小時光屋 - 魔術方塊速解高手之路', '職場必備的批判思考力：論戰力篇', '散戶必看！台股擂台王的波段操作心法', '把捉日常光影細節-畫出充滿靈魂的人像插畫', '生活中的哲學！給新手的手沖咖啡入門課', '從興趣到接案：建立專業插畫創作流程', '生活要清爽：讓空間煥然一新的整理收納課', '利息養成現金流：債券入門投資術', '小資族保險的第一堂入門課', 'Excel 達人：學會所有商務應用的需求！', '愛情哲學課-學習愛情知識 克服愛的難題', '【Illustrator / Ai 進階】深度精修班', 'Power BI數據分析實戰-邏輯與資料視覺化', '第一次自助旅行就輕鬆上手！', 'ETF 投資全球：帶你量身打造專屬資產配置', '啾啾鞋的資料彙整術 - 別淹沒在資訊海！', '職場在走法律常識要有-上班族必修法律課', '四小時學會打光，成為商業攝影師！', '實用Photoshop - 入門到大師，紮實範例', '簡報方舟：高效簡報的系統化做法', '比阿里巴巴還便宜的女裝批發', '從生活認識微積分：基礎觀念篇(1)', '伸縮自如的字體課：從基本功到創意風格', '教養心法：用數位心智圖提升孩童學習力', 'TOEIC — 全方位攻略 2018 新制多益！', 'R語言和商業分析-洞悉商業世界中的資料科學', '經典駭客攻擊教程：給每個人的網站安全入門', '掌握英文8原則-自學英文的最短路徑', '台科 EMBA 年年爆滿的一門 Word 課（B+C 系列）', 'Android APP高效入門 強靭基礎刻不容緩', '一步一步學編劇：搞笑催淚技巧大揭密', '營養師萊恩：狗狗鮮食簡單做', '畫圖無死角，360 度全景透視法', '網路行銷全方位入門實戰（上集）', '從0開始：從書籍封面學平面設計！', '旅行插畫，培養不可或缺的創造力', '吉他編曲超訓練：豐富精緻的彈奏設計', '設計 DIY - 網拍家的 PS 設計實戰', '浪漫探戈 - 從基本舞步到即興組合', '漫遊程海 | Python 入門到製作遊戲演算法', '從零開始學文案 — 育名的文案小教室', '進入比特幣世界 - 比 99% 的人更懂它！', '商用日語：一次學好各種敬語及書信禮儀', '履歷面試大剖析－網路科技外商求職技巧', '人人都是賈伯斯,你也可以開發自己的產品', 'POP-UP！立體繪本手工書 - 娃娃屋篇', '拯救你的樂理 - 現代音樂和聲學', 'Duga 的奇幻插畫課 - 幻想角色篇', '動畫互動網頁特效入門（JS/CANVAS）', '不必下蠱的人心攻略術 — 小說實戰技術', '跟著插畫家十堂課輕鬆學塔羅', '如何練習動漫速寫 - Anime Sketches', '從入門到業界實戰 - UI / UX 前端網頁設計', '從 0 到 1 - 為初學者而設計的日文課', '開啟資料科學的學習大門 - R入門教學', '你真的會買淘寶？代購秘密大公開', 'AE/MG || 進階動畫特效 Vol.2', '做自己的藏書票（新孔版）', '法式繽紛馬卡龍', '簡單學會入門款 【復古手工書 】', '糖果娃娃 - 學校畢業紀念娃娃', '為申請學校或工作寫好英文自傳', '療癒感手繪插畫食譜', '教你用免費軟體 混音組曲當 DJ！', '不一樣的西洋美術史', 'Line 的貼圖自己動手做！', '數位拼貼的手感', '幾何圖形分割 X 色塊組合']\n"
     ]
    }
   ],
   "source": [
    "#將每頁資料放到courses\n",
    "courses=[]\n",
    "for a in urls:\n",
    "    browser.get(a)\n",
    "    A=browser.page_source\n",
    "    soup=BeautifulSoup(A,\"html5lib\")\n",
    "    B=soup.find_all(\"h4\",class_=\"title\")\n",
    "    for a in B:\n",
    "        courses.append(a.text)\n",
    "browser.close\n",
    "print(courses)"
   ]
  },
  {
   "cell_type": "code",
   "execution_count": null,
   "metadata": {},
   "outputs": [],
   "source": []
  }
 ],
 "metadata": {
  "kernelspec": {
   "display_name": "Python 3",
   "language": "python",
   "name": "python3"
  },
  "language_info": {
   "codemirror_mode": {
    "name": "ipython",
    "version": 3
   },
   "file_extension": ".py",
   "mimetype": "text/x-python",
   "name": "python",
   "nbconvert_exporter": "python",
   "pygments_lexer": "ipython3",
   "version": "3.7.6"
  }
 },
 "nbformat": 4,
 "nbformat_minor": 4
}
