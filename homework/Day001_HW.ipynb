{
 "cells": [
  {
   "cell_type": "code",
   "execution_count": 1,
   "metadata": {
    "scrolled": true
   },
   "outputs": [
    {
     "data": {
      "text/plain": [
       "(' Homework.txt', <http.client.HTTPMessage at 0x2308cdc8848>)"
      ]
     },
     "execution_count": 1,
     "metadata": {},
     "output_type": "execute_result"
    }
   ],
   "source": [
    "#利用python下載檔案\n",
    "from urllib.request import urlretrieve\n",
    "urlretrieve(\"https://www.w3.org/TR/PNG/iso_8859-1.txt\",\" Homework.txt\")"
   ]
  },
  {
   "cell_type": "code",
   "execution_count": 2,
   "metadata": {},
   "outputs": [
    {
     "name": "stdout",
     "output_type": "stream",
     "text": [
      " Homework.txt\n",
      ".cache\n",
      ".conda\n",
      ".condarc\n",
      ".gitconfig\n",
      ".ipynb_checkpoints\n",
      ".ipython\n",
      ".jupyter\n",
      ".pylint.d\n",
      ".vscode\n",
      "3D Objects\n",
      "anaconda3\n",
      "Anwendungsdaten\n",
      "AppData\n",
      "Contacts\n",
      "Cookies\n",
      "Day001_HW.ipynb\n",
      "Desktop\n",
      "Documents\n",
      "Downloads\n",
      "Druckumgebung\n",
      "Eigene Dateien\n",
      "Favorites\n",
      "IntelGraphicsProfiles\n",
      "Links\n",
      "Lokale Einstellungen\n",
      "MicrosoftEdgeBackups\n",
      "Music\n",
      "Netzwerkumgebung\n",
      "NTUSER.DAT\n",
      "ntuser.dat.LOG1\n",
      "ntuser.dat.LOG2\n",
      "NTUSER.DAT{a8d22bb0-01dc-11ea-bec5-a868ba2850ba}.TM.blf\n",
      "NTUSER.DAT{a8d22bb0-01dc-11ea-bec5-a868ba2850ba}.TMContainer00000000000000000001.regtrans-ms\n",
      "NTUSER.DAT{a8d22bb0-01dc-11ea-bec5-a868ba2850ba}.TMContainer00000000000000000002.regtrans-ms\n",
      "ntuser.ini\n",
      "OneDrive\n",
      "opera autoupdate\n",
      "Pictures\n",
      "Recent\n",
      "Saved Games\n",
      "Searches\n",
      "SendTo\n",
      "Startmenü\n",
      "Videos\n",
      "Vorlagen\n",
      "_netrc\n"
     ]
    }
   ],
   "source": [
    "#檢查資料夾是否有檔案\n",
    "import os, sys\n",
    "dirs=os.listdir(\"./\")\n",
    "for file in dirs:\n",
    "    print(file)"
   ]
  },
  {
   "cell_type": "code",
   "execution_count": 5,
   "metadata": {},
   "outputs": [
    {
     "name": "stdout",
     "output_type": "stream",
     "text": [
      "11\n"
     ]
    }
   ],
   "source": [
    "#利用python存取檔案\n",
    "with open (\"Homework.txt\",\"w\")as fh:\n",
    "    A=fh.write(\"Hello World\")\n",
    "    print(A)"
   ]
  },
  {
   "cell_type": "code",
   "execution_count": 6,
   "metadata": {},
   "outputs": [
    {
     "name": "stdout",
     "output_type": "stream",
     "text": [
      "Hello World\n"
     ]
    }
   ],
   "source": [
    "with open (\"Homework.txt\",\"r\") as file:\n",
    "    B=file.read()\n",
    "    print(B)"
   ]
  },
  {
   "cell_type": "code",
   "execution_count": null,
   "metadata": {},
   "outputs": [],
   "source": []
  }
 ],
 "metadata": {
  "kernelspec": {
   "display_name": "Python 3",
   "language": "python",
   "name": "python3"
  },
  "language_info": {
   "codemirror_mode": {
    "name": "ipython",
    "version": 3
   },
   "file_extension": ".py",
   "mimetype": "text/x-python",
   "name": "python",
   "nbconvert_exporter": "python",
   "pygments_lexer": "ipython3",
   "version": "3.7.6"
  }
 },
 "nbformat": 4,
 "nbformat_minor": 4
}
