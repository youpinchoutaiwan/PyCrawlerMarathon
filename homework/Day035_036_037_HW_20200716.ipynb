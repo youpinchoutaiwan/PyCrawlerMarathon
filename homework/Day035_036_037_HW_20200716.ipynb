{
 "cells": [
  {
   "cell_type": "markdown",
   "metadata": {},
   "source": [
    "# Day35 加速:多線程爬蟲\n",
    "找一個之前實作過的爬蟲改用多線程改寫，比較前後時間的差異。"
   ]
  },
  {
   "cell_type": "code",
   "execution_count": 1,
   "metadata": {},
   "outputs": [],
   "source": [
    "import requests as rq\n",
    "import time\n",
    "import _thread\n",
    "from bs4 import BeautifulSoup\n",
    "url=\"https://www.ptt.cc/bbs/hotboards.html\""
   ]
  },
  {
   "cell_type": "code",
   "execution_count": 2,
   "metadata": {},
   "outputs": [
    {
     "name": "stdout",
     "output_type": "stream",
     "text": [
      "119.24568819999695\n"
     ]
    }
   ],
   "source": [
    "res=rq.get(url)\n",
    "soup=BeautifulSoup(res.text)\n",
    "list=soup.find_all(\"div\",{\"class\":\"b-ent\"})\n",
    "startTime=time.time()\n",
    "for i in list:\n",
    "    link=\"https://www.ptt.cc/\".format(i.a[\"href\"])\n",
    "    res1=rq.get(link)\n",
    "finishTime=time.time()\n",
    "print(finishTime-startTime)"
   ]
  },
  {
   "cell_type": "code",
   "execution_count": 3,
   "metadata": {},
   "outputs": [
    {
     "name": "stdout",
     "output_type": "stream",
     "text": [
      "0.26252293586730957\n"
     ]
    }
   ],
   "source": [
    "res = rq.get(url)\n",
    "soup = BeautifulSoup(res.text)\n",
    "lists = soup.find_all('div',{'class':'b-ent'})\n",
    "startTime = time.time()\n",
    "for list in lists:\n",
    "    linkUrl = 'https://www.ptt.cc'.format(list.a['href'])\n",
    "    _thread.start_new_thread( rq.get, (linkUrl, ) )\n",
    "finishTime = time.time()\n",
    "print(finishTime - startTime)"
   ]
  },
  {
   "cell_type": "markdown",
   "metadata": {},
   "source": [
    "# Day36 加速：非同步爬蟲\n",
    "比較一下非同步爬蟲跟多線程爬蟲的差異是什麼？各自的優缺點為何？"
   ]
  },
  {
   "cell_type": "markdown",
   "metadata": {},
   "source": [
    "多線程:程式分成兩個子程式平行執行；缺點因為Global Interpreter Lock導致python無法活用CPU多核效率。    "
   ]
  },
  {
   "cell_type": "markdown",
   "metadata": {},
   "source": [
    "非同步:程式執行無須等前項是否完成，即可繼續往下執行    "
   ]
  },
  {
   "cell_type": "markdown",
   "metadata": {},
   "source": [
    "# Day37 自動化更新機制(排程)\n",
    "列舉一個是需要用自動化更新的機制來達成的爬蟲應用。"
   ]
  },
  {
   "cell_type": "markdown",
   "metadata": {},
   "source": [
    "股票、匯率、即時新聞，每分每秒都在變動"
   ]
  }
 ],
 "metadata": {
  "kernelspec": {
   "display_name": "Python 3",
   "language": "python",
   "name": "python3"
  },
  "language_info": {
   "codemirror_mode": {
    "name": "ipython",
    "version": 3
   },
   "file_extension": ".py",
   "mimetype": "text/x-python",
   "name": "python",
   "nbconvert_exporter": "python",
   "pygments_lexer": "ipython3",
   "version": "3.7.6"
  }
 },
 "nbformat": 4,
 "nbformat_minor": 4
}
