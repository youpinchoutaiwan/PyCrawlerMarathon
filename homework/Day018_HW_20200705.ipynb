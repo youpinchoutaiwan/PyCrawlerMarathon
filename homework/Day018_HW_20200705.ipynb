{
 "cells": [
  {
   "cell_type": "markdown",
   "metadata": {},
   "source": [
    "1.利用開發者工具，找尋網站的HTTP網址，及其Headers\n",
    "\n",
    "2.試著用requests發送有Headers和沒有的差異"
   ]
  },
  {
   "cell_type": "code",
   "execution_count": 15,
   "metadata": {},
   "outputs": [
    {
     "name": "stdout",
     "output_type": "stream",
     "text": [
      "<html>\n",
      "<head><title>400 Bad Request</title></head>\n",
      "<body bgcolor=\"white\">\n",
      "<center><h1>400 Bad Request</h1></center>\n",
      "<hr><center>openresty</center>\n",
      "</body>\n",
      "</html>\n",
      "\n",
      "---------------以下含Headers--------------------------\n",
      "<!doctype html>\n",
      "<html lang=\"zh\" data-hairline=\"true\" data-theme=\"light\"><head><meta charSet=\"utf-8\"/><title data-react-helmet=\"true\">发现 - 知乎</title><meta name=\"viewport\" content=\"width=device-width,initial-scale=1,maximum-scale=1\"/><meta name=\"renderer\" content=\"webkit\"/><meta name=\"force-rendering\" content=\"webkit\"/><meta http-equiv=\"X-UA-Compatible\" content=\"IE=edge,chrome=1\"/><meta name=\"google-site-verification\" content=\"FTeR0c8arOPKh8c5DYh_9uu98_zJbaWw53J-Sch9MTg\"/><meta name=\"description\" \n"
     ]
    }
   ],
   "source": [
    "import requests\n",
    "\n",
    "url=\"https://www.zhihu.com/explore\"\n",
    "res=requests.get(url)\n",
    "res.encoding=\"utf-8\"\n",
    "print(res.text)\n",
    "print(\"---------------以下含Headers--------------------------\")\n",
    "headers={\n",
    "    'authority': 'www.zhihu.com',\n",
    "    'method': 'GET',\n",
    "    'path': '/explore',\n",
    "    'scheme': 'https',\n",
    "    'accept': 'text/html,application/xhtml+xml,application/xml;q=0.9,image/webp,image/apng,*/*;q=0.8,application/signed-exchange;v=b3;q=0.9',\n",
    "    'accept-encoding': 'utf-8',\n",
    "    'accept-language': 'en-US,en;q=0.9,zh-TW;q=0.8,zh;q=0.7,ko;q=0.6',\n",
    "    'cache-control': 'max-age=0',\n",
    "    'cookie': '_zap=13394307-0949-4f88-88f3-8c77c6c90b71; _xsrf=11bdcca1-184f-4064-8053-a861122eb66e; d_c0=\"ACBkG2xvhBCPTrmqilSlLUYuBzQRUpuDTGo=|1576545485\"; Hm_lvt_98beee57fd2ef70ccdd5ca52b9740c49=1576545489,1576548146,1576548253; tgw_l7_route=e2ca88f7b4ad1bb6affd1b65f8997df3; Hm_lpvt_98beee57fd2ef70ccdd5ca52b9740c49=1576570645',\n",
    "    'sec-fetch-mode': 'navigate',\n",
    "    'sec-fetch-site': 'none',\n",
    "    'sec-fetch-user': '?1',\n",
    "    'upgrade-insecure-requests': '1',\n",
    "    'user-agent': 'Mozilla/5.0 (Windows NT 10.0; Win64; x64) AppleWebKit/537.36 (KHTML, like Gecko) Chrome/79.0.3945.79 Safari/537.36'\n",
    "}\n",
    "res1=requests.get(url,headers=headers)\n",
    "res1.encoding=\"utf-8\"\n",
    "print(res1.text[0:500])"
   ]
  },
  {
   "cell_type": "code",
   "execution_count": 17,
   "metadata": {},
   "outputs": [
    {
     "name": "stdout",
     "output_type": "stream",
     "text": [
      "<!DOCTYPE html><html style=\"height:100%;width:100%\"><head><meta http-equiv=\"Content-Type\" content=\"text/html; charset=utf-8\" /><meta http-equiv=\"Server\" content=\"CloudWAF\" /><title id=\"title\">访问被拦截！</title><script>function bindall() {var requestid = \"30-30-11-20200705230138-16aa5501\";if(requestid==null || requestid == \"\"){return;}document.getElementById(\"d\").innerText = requestid;}</script></head><body onload=\"bindall()\" style=\"height:100%;width:100%;margin:0px;font-family:Microsoft yahei\"><div><style type=\"text/css\">\t.button{float:right;margin-right:2rem;text-decoration:none;background:white;color:#e94d4c;padding: 5px 15px 5px 15px;font-size:1rem;font-family: 微软雅黑,宋体,Arial,Helvetica,Verdana,sans-serif;font-weight:bold;border-radius:0rem;border: none;-webkit-transition:all linear 0.30s;-moz-transition:all linear 0.30s;}.button:hover{text-decoration:none;background:#e94d4c;color:#f2f2f2;}</style><input type=\"button\" class=\"button\" onclick=\"changeLanguageZh()\" value=\"中文\"/><input type=\"button\" class=\"button\"  onclick=\"changeLanguageEn()\" value=\"English\"/></div><div style=\"min-height:13.125rem;height:17%;width:100%\"><div style=\"margin-top:3.75rem;margin-left:18.4375rem;height:52.38;width:83.04%;\"><svg xmlns=\"http://www.w3.org/2000/svg\" style=\"width: 3.125rem;height: 3.125rem\" viewBox=\"0 0 50 50\"><path fill=\"#e84e4c\" d=\"M25,0A25,25,0,1,0,50,25,25,25,0,0,0,25,0Zm1.6,37.16H22.85V33.41H26.6Zm0-6.63H22.85L22.35,13H27.1Z\"/></svg><font style=\"font-family:MicrosoftYaHei;font-size:4.375rem;color:#e94d4c;margin-left: 0.75rem;font-weight: bold;\">418</font></div><div style=\"margin-left:18.4375rem;height:47.62%;width:83.04%;\"><font id=\"a\" style=\"font-family:MicrosoftYaHei;font-size:1.875rem;color:#999999;word-wrap:break-word;\">您的请求疑似攻击行为！</font><p style=\"font-family:MicrosoftYaHei;font-size:0.9rem;color:#999999;word-wrap:break-word;\"><span id=\"c\">事件ID：</span><span style=\"color:#499df2\" id=\"d\">False alarm ID</p></div></div><div style=\"height:15.625rem;width:100%;min-width:105rem;\"><div style=\"margin-left:18.4375rem;float:left;width:50rem\"><p id=\"b\" style=\"margin-top:10px\">如果您是站长，您可以前往WAF控制台进行误报屏蔽设置，让您的访问不再被拦截</p></div></div></body><script>function changeLanguageZh() {document.getElementById(\"title\").innerHTML = \"访问被拦截！\";document.getElementById(\"a\").innerHTML = \"您的请求疑似攻击行为！\";document.getElementById(\"b\").innerHTML = \"如果您是站长，您可以前往WAF控制台进行误报屏蔽设置，让您的访问不再被拦截\";document.getElementById(\"c\").innerHTML = \"事件ID：\";}function changeLanguageEn() {document.getElementById(\"title\").innerHTML = \"The access is blocked.\";document.getElementById(\"a\").innerHTML = \"Sorry, your request has been intercepted because it appears to be an attack.\";document.getElementById(\"b\").innerHTML = \"If you are the webmaster, configure related parameters on the WAF console to allow your requests.\";document.getElementById(\"c\").innerHTML = \"Event ID:\";}var language = navigator.language || navigator.browserLanguage;if (language.indexOf('zh') > -1) {changeLanguageZh();} else if (language.indexOf('en') > -1) {changeLanguageEn();} else{changeLanguageZh();}</script></html>\n",
      "\n",
      "-----------Headers-----------------\n",
      "<!DOCTYPE html><html><head><meta charSet=\"utf-8\" class=\"next-head\"/><meta name=\"viewport\" content=\"width=device-width, initial-scale=1.0\" class=\"jsx-1554617145 next-head\"/><meta name=\"robots\" content=\"noindex\" class=\"jsx-1554617145 next-head\"/><title class=\"jsx-1554617145 next-head\">404: 页面不存在 | AICoin</title><link rel=\"preload\" href=\"https://assets-www.aicoin.net.cn/beta-v20/_next/static/UCeSd8MAwbw1lkWmifnQD/pages/_app.js\" as=\"script\"/><link rel=\"preload\" href=\"https://assets-www.aicoin.net.cn/beta-v20/_next/static/UCeSd8MAwbw1lkWmifnQD/pages/_error.js\" as=\"script\"/><link rel=\"preload\" href=\"https://assets-www.aicoin.net.cn/beta-v20/_next/static/runtime/webpack-fffef73606d807fae88f.js\" as=\"script\"/><link rel=\"preload\" href=\"https://assets-www.aicoin.net.cn/beta-v20/_next/static/chunks/commons.e72208a8ae85fc8aa9b1.js\" as=\"script\"/><link rel=\"preload\" href=\"https://assets-www.aicoin.net.cn/beta-v20/_next/static/runtime/main-eec8e94055297616d540.js\" as=\"script\"/><link rel=\"preload\" href=\"https://assets-www.aicoin.net.cn/beta-v20/_next/static/chunks/styles.ef5c9ed8eb0308b02167.js\" as=\"script\"/><link rel=\"stylesheet\" href=\"https://assets-www.aicoin.net.cn/beta-v20/_next/static/css/styles.077fa51d.chunk.css\"/><style id=\"__jsx-1554617145\">.error.jsx-1554617145{color:#000;background:#fff;font-family:-apple-system,BlinkMacSystemFont,Roboto,\"Segoe UI\",\"Fira Sans\",Avenir,\"Helvetica Neue\",\"Lucida Grande\",sans-serif;height:100vh;text-align:center;display:-webkit-box;display:-webkit-flex;display:-ms-flexbox;display:flex;-webkit-flex-direction:column;-ms-flex-direction:column;flex-direction:column;-webkit-align-items:center;-webkit-box-align:center;-ms-flex-align:center;align-items:center;-webkit-box-pack:center;-webkit-justify-content:center;-ms-flex-pack:center;justify-content:center;}\n",
      "img.jsx-1554617145{width:606px;}\n",
      "p.jsx-1554617145{margin-top:30px;margin-bottom:20px;font-family:PingFangSC-Regular;font-size:14px;color:#999999;-webkit-letter-spacing:0;-moz-letter-spacing:0;-m\n"
     ]
    }
   ],
   "source": [
    "url1=\"https://www.aicoin.cn/\"\n",
    "r=requests.get(url1)\n",
    "r.encoding=\"utf-8\"\n",
    "print(r.text)\n",
    "print(\"-----------Headers-----------------\")\n",
    "headers={\n",
    "    'Referer': 'https://www.aicoin.cn/',\n",
    "    'Upgrade-Insecure-Requests': '1',\n",
    "    'User-Agent': 'Mozilla/5.0 (Windows NT 10.0; Win64; x64) AppleWebKit/537.36 (KHTML, like Gecko) Chrome/79.0.3945.79 Safari/537.36'\n",
    "}\n",
    "r=requests.get(url1,headers=headers)\n",
    "r.encoding=\"utf-8\"\n",
    "print(r.text[0:2000])"
   ]
  },
  {
   "cell_type": "code",
   "execution_count": null,
   "metadata": {},
   "outputs": [],
   "source": []
  }
 ],
 "metadata": {
  "kernelspec": {
   "display_name": "Python 3",
   "language": "python",
   "name": "python3"
  },
  "language_info": {
   "codemirror_mode": {
    "name": "ipython",
    "version": 3
   },
   "file_extension": ".py",
   "mimetype": "text/x-python",
   "name": "python",
   "nbconvert_exporter": "python",
   "pygments_lexer": "ipython3",
   "version": "3.7.6"
  }
 },
 "nbformat": 4,
 "nbformat_minor": 4
}
