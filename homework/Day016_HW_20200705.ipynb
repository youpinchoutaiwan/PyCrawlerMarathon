{
 "cells": [
  {
   "cell_type": "code",
   "execution_count": 5,
   "metadata": {},
   "outputs": [],
   "source": [
    "import requests\n",
    "import re\n",
    "from bs4 import BeautifulSoup\n",
    "import os"
   ]
  },
  {
   "cell_type": "code",
   "execution_count": 10,
   "metadata": {},
   "outputs": [
    {
     "name": "stdout",
     "output_type": "stream",
     "text": [
      "柯佳嬿:%E6%9F%AF%E4%BD%B3%E5%AC%BF\n",
      "https://zh.wikipedia.org/wiki/%E6%9F%AF%E4%BD%B3%E5%AC%BF\n"
     ]
    }
   ],
   "source": [
    "#輸入關鍵字找到網址\n",
    "keyword=\"柯佳嬿\"\n",
    "url=repr(keyword.encode(\"utf-8\")).upper()\n",
    "url=url.replace(\"\\\\X\",\"%\")\n",
    "print(\"%s:%s\" %(keyword,url[2:-1:1]))\n",
    "keylink=\"https://zh.wikipedia.org/wiki/\"+url[2:-1:1]\n",
    "print(keylink)"
   ]
  },
  {
   "cell_type": "code",
   "execution_count": 12,
   "metadata": {},
   "outputs": [
    {
     "name": "stdout",
     "output_type": "stream",
     "text": [
      "柯佳嬿（1985年1月10日－），臺灣女演員。首部戲劇作品為電影 《一年之初》，並參演過許多膾炙人口的電視劇及電影。2011年以高收視率偶像劇《小資女孩向前衝》沈杏仁一角令大眾熟識，戲路多元，勇於嘗試。2016年憑藉偶像劇《必娶女人》蔡環真一角，獲得第51屆電視金鐘獎「戲劇節目女主角獎」。2019年在《想見你》一人分飾兩角黃雨萱、陳韻如的細膩演出在兩岸三地爆紅。[2]\n",
      "\n",
      "2005年在台北捷運被星探發掘進而演出周杰倫MV《楓》。\n",
      "\n",
      "2006年演出首部電影《一年之初》，片中飾演楚楚動人的女孩蝴蝶，清秀的外型讓觀眾印象深刻。\n",
      "\n",
      "2009年，柯佳嬿凭借电影《艋舺》获得第十二届台北电影节最佳女主角提名。\n",
      "\n",
      "2011年由於電影《雞排英雄》和偶像劇《小資女孩向前衝》開始受到注目，而後嘗試許多不同戲路。在電影《風中家族》飾演李淳的阿姨，由二十歲到四十歲跨齡演出。在電影《五星級魚干女》中扮演搞笑宅女，喜劇表現不俗。又在電影《目擊者》裡詮釋神秘的車禍生還者，尺度上有相當大的挑戰。\n",
      "\n",
      "2016年憑藉偶像劇《必娶女人》蔡環真一角，獲得第五十一屆金鐘獎戲劇節目最佳女主角獎殊榮。\n",
      "\n",
      "2019年主演電視劇《想見你》及電影《你的情歌》大受歡迎。[3]\n",
      "\n",
      "出道前曾是幼稚園老師。\n",
      "\n",
      "2012年，被傳媒拍攝到與一同演出電視劇《我們發財了》的演員謝坤達外出並傳出緋聞，當時兩人並沒有正面回應。2017年12月3日，與演員謝坤達登記結婚[4]，两人在2018年9月15日於萬豪酒店舉辦婚宴。[5]\n",
      "\n",
      "此外，圈中好友歐漢聲的女兒JoJo為柯佳嬿的乾女兒[6]。\n",
      "\n"
     ]
    }
   ],
   "source": [
    "#送出請求關鍵字，爬取其文章內容\n",
    "res=requests.get(keylink)\n",
    "res.encoding=\"utf-8\"\n",
    "soup=BeautifulSoup(res.text,\"html5lib\")\n",
    "content=soup.find_all(name=\"p\")\n",
    "for a in content:\n",
    "    print(a.get_text())"
   ]
  },
  {
   "cell_type": "code",
   "execution_count": 13,
   "metadata": {},
   "outputs": [
    {
     "name": "stdout",
     "output_type": "stream",
     "text": [
      "外部連結:[臺灣] /wiki/%E8%87%BA%E7%81%A3\n",
      "外部連結:[一年之初] /wiki/%E4%B8%80%E5%B9%B4%E4%B9%8B%E5%88%9D\n",
      "外部連結:[小資女孩向前衝] /wiki/%E5%B0%8F%E8%B3%87%E5%A5%B3%E5%AD%A9%E5%90%91%E5%89%8D%E8%A1%9D\n",
      "外部連結:[必娶女人] /wiki/%E5%BF%85%E5%A8%B6%E5%A5%B3%E4%BA%BA\n",
      "外部連結:[第51屆電視金鐘獎] /wiki/%E7%AC%AC51%E5%B1%86%E9%87%91%E9%90%98%E7%8D%8E\n",
      "外部連結:[想見你] /wiki/%E6%83%B3%E8%A6%8B%E4%BD%A0_(%E9%9B%BB%E8%A6%96%E5%8A%87)\n",
      "外部連結:[周杰倫] /wiki/%E5%91%A8%E6%9D%B0%E5%80%AB\n",
      "外部連結:[一年之初] /wiki/%E4%B8%80%E5%B9%B4%E4%B9%8B%E5%88%9D\n",
      "外部連結:[艋舺] /wiki/%E8%89%8B%E8%88%BA\n",
      "外部連結:[雞排英雄] /wiki/%E9%9B%9E%E6%8E%92%E8%8B%B1%E9%9B%84\n",
      "外部連結:[小資女孩向前衝] /wiki/%E5%B0%8F%E8%B3%87%E5%A5%B3%E5%AD%A9%E5%90%91%E5%89%8D%E8%A1%9D\n",
      "外部連結:[風中家族] /wiki/%E9%A2%A8%E4%B8%AD%E5%AE%B6%E6%97%8F\n",
      "外部連結:[五星級魚干女] /wiki/%E4%BA%94%E6%98%9F%E7%B4%9A%E9%AD%9A%E5%B9%B2%E5%A5%B3\n",
      "外部連結:[目擊者] /wiki/%E7%9B%AE%E6%93%8A%E8%80%85_(2017%E5%B9%B4%E9%9B%BB%E5%BD%B1)\n",
      "外部連結:[必娶女人] /wiki/%E5%BF%85%E5%A8%B6%E5%A5%B3%E4%BA%BA\n",
      "外部連結:[想見你] /wiki/%E6%83%B3%E8%A6%8B%E4%BD%A0_(%E9%9B%BB%E8%A6%96%E5%8A%87)\n",
      "外部連結:[你的情歌] /wiki/%E4%BD%A0%E7%9A%84%E6%83%85%E6%AD%8C\n",
      "外部連結:[我們發財了] /wiki/%E6%88%91%E5%80%91%E7%99%BC%E8%B2%A1%E4%BA%86\n",
      "外部連結:[謝坤達] /wiki/%E8%AC%9D%E5%9D%A4%E9%81%94\n",
      "外部連結:[謝坤達] /wiki/%E8%AC%9D%E5%9D%A4%E9%81%94\n",
      "外部連結:[萬豪酒店] /wiki/%E8%90%AC%E8%B1%AA%E9%85%92%E5%BA%97\n",
      "外部連結:[歐漢聲] /wiki/%E6%AD%90%E6%BC%A2%E8%81%B2\n"
     ]
    }
   ],
   "source": [
    "#擷取有外部連結的關鍵字\n",
    "for r in content:\n",
    "    tag=r.find_all(\"a\",href=re.compile(\"(/wiki/)((?!;)\\S)*$\"))\n",
    "    if len(tag)>0:\n",
    "        for b in tag:\n",
    "            a_link=b[\"href\"]\n",
    "            a_keyword=b.get_text()\n",
    "            print(\"外部連結:[%s] %s\" %(a_keyword,a_link))      "
   ]
  },
  {
   "cell_type": "code",
   "execution_count": 17,
   "metadata": {},
   "outputs": [],
   "source": [
    "#定義一個函式，爬取當前關鍵字的解釋，並存入檔案。\n",
    "def article(link,word,recursive,max_recursive_depth):\n",
    "    if(recursive<=max_recursive_depth):\n",
    "        print(\"遞迴層[%d]-%s(%s)\" %(recursive,link,word))\n",
    "        \n",
    "        res=requests.get(keylink)\n",
    "        res.encoding=\"utf-8\"\n",
    "        soup=BeautifulSoup(res.text,\"html5lib\")\n",
    "        content=soup.find_all(name=\"p\")\n",
    "        \n",
    "        #把關鍵字寫入檔案\n",
    "        with open(\"{}.txt\".format(word),\"w\",encoding=\"utf-8\") as fh:\n",
    "            for a in content:\n",
    "                fh.write(a.get_text())\n",
    "        #萃取文章中的外部連結\n",
    "        link_dict=dict({})\n",
    "        for a in content:\n",
    "            tag=r.find_all(\"a\",href=re.compile(\"(/wiki/)((?!;)\\S)*$\"))\n",
    "            if len(tag)>0:\n",
    "                for b in tag:\n",
    "                    a_link=b[\"href\"]\n",
    "                    a_keyword=b.get_text()\n",
    "                    link_dict[a_keyword]=a_link       \n",
    "        #將收集到的連結，當作新的關鍵字繼續搜尋\n",
    "        if(len(link_dict)>0):\n",
    "            recursive=recursive+1\n",
    "            for k,v in link_dict.items():\n",
    "                article(v,k,recursive, max_recursive_depth)\n",
    "        #再次呼叫同樣函數，執行同樣流程"
   ]
  },
  {
   "cell_type": "code",
   "execution_count": 18,
   "metadata": {},
   "outputs": [
    {
     "name": "stdout",
     "output_type": "stream",
     "text": [
      "遞迴層[0]-https://zh.wikipedia.org/wiki/%E6%9F%AF%E4%BD%B3%E5%AC%BF(柯佳嬿)\n",
      "遞迴層[1]-/wiki/%E6%AD%90%E6%BC%A2%E8%81%B2(歐漢聲)\n",
      "遞迴層[2]-/wiki/%E6%AD%90%E6%BC%A2%E8%81%B2(歐漢聲)\n"
     ]
    }
   ],
   "source": [
    "#呼叫函式\n",
    "max_recursive_depth=2\n",
    "article(keylink,keyword,0,max_recursive_depth)"
   ]
  }
 ],
 "metadata": {
  "kernelspec": {
   "display_name": "Python 3",
   "language": "python",
   "name": "python3"
  },
  "language_info": {
   "codemirror_mode": {
    "name": "ipython",
    "version": 3
   },
   "file_extension": ".py",
   "mimetype": "text/x-python",
   "name": "python",
   "nbconvert_exporter": "python",
   "pygments_lexer": "ipython3",
   "version": "3.7.6"
  }
 },
 "nbformat": 4,
 "nbformat_minor": 4
}
