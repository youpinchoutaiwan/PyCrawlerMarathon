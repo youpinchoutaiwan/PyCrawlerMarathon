{
 "cells": [
  {
   "cell_type": "code",
   "execution_count": 21,
   "metadata": {},
   "outputs": [
    {
     "name": "stdout",
     "output_type": "stream",
     "text": [
      "Mon Feb  6 22:10:29 2017\n"
     ]
    }
   ],
   "source": [
    "#取出知乎問題發問時間\n",
    "import urllib.request as req\n",
    "import json\n",
    "import time\n",
    "s=\"https://www.zhihu.com/api/v4/questions/55493026/answers\"\n",
    "s1=req.Request(s,headers={\n",
    "    \"user-Agent\":\"Mozilla/5.0 (Windows NT 10.0; Win64; x64) AppleWebKit/537.36 (KHTML, like Gecko) Chrome/83.0.4103.106 Safari/537.36\"\n",
    "})\n",
    "with req.urlopen(s1) as response:\n",
    "    fh=json.load(response)\n",
    "    A=fh['data'][0]['question']['created']\n",
    "print(time.ctime(A))"
   ]
  },
  {
   "cell_type": "code",
   "execution_count": 27,
   "metadata": {},
   "outputs": [
    {
     "name": "stdout",
     "output_type": "stream",
     "text": [
      "Tue May  2 10:45:13 2017\n",
      "Thu Mar 26 21:04:14 2020\n"
     ]
    }
   ],
   "source": [
    "#取出第一筆與最後一筆回答的時間\n",
    "with req.urlopen(s1) as response:\n",
    "    fh=json.load(response)\n",
    "timelist=[]\n",
    "for item in fh[\"data\"]:\n",
    "    timelist.append(item[\"created_time\"])\n",
    "timelist.sort()\n",
    "print(time.ctime(timelist[0]))\n",
    "print(time.ctime(timelist[-1]))\n",
    "        \n",
    " "
   ]
  },
  {
   "cell_type": "code",
   "execution_count": null,
   "metadata": {},
   "outputs": [],
   "source": [
    "#HTTP一來一回的網頁傳輸有哪些缺點?\n",
    "#易遭竊聽、無彈性、無權限管理，所有人都可取得資料"
   ]
  },
  {
   "cell_type": "code",
   "execution_count": null,
   "metadata": {},
   "outputs": [],
   "source": [
    "#JavaScript&Python 不同\n",
    "#Javascript需搭配HTML，Python不用"
   ]
  }
 ],
 "metadata": {
  "kernelspec": {
   "display_name": "Python 3",
   "language": "python",
   "name": "python3"
  },
  "language_info": {
   "codemirror_mode": {
    "name": "ipython",
    "version": 3
   },
   "file_extension": ".py",
   "mimetype": "text/x-python",
   "name": "python",
   "nbconvert_exporter": "python",
   "pygments_lexer": "ipython3",
   "version": "3.7.6"
  }
 },
 "nbformat": 4,
 "nbformat_minor": 4
}
