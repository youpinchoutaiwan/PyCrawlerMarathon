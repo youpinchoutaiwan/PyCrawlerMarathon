{
 "cells": [
  {
   "cell_type": "code",
   "execution_count": 18,
   "metadata": {
    "scrolled": true
   },
   "outputs": [],
   "source": [
    "import re"
   ]
  },
  {
   "cell_type": "code",
   "execution_count": 19,
   "metadata": {},
   "outputs": [],
   "source": [
    "def test(regex, input_text):\n",
    "    pattern=re.compile(regex)\n",
    "    result=re.search(pattern, input_text)\n",
    "    if result:\n",
    "        print(\"Matched: %s\" % (result.group()))\n",
    "        if result.lastindex is not None:\n",
    "            for i in range(0, result.lastindex+1):\n",
    "                print(\" group(%d): %s\" % (i,result.group(i)))\n",
    "    else:\n",
    "        print(\"Not matched.\")"
   ]
  },
  {
   "cell_type": "code",
   "execution_count": 20,
   "metadata": {},
   "outputs": [
    {
     "name": "stdout",
     "output_type": "stream",
     "text": [
      "Matched: 216.58.200.227\n",
      " group(0): 216.58.200.227\n",
      " group(1): 216.58.200.227\n"
     ]
    }
   ],
   "source": [
    "A=\"Google IP address is 216.58.200.227\"\n",
    "regex=\"(\\d{1,3}.\\d{1,3}.\\d{1,3}.\\d{1,3})\"\n",
    "test(regex,A)"
   ]
  },
  {
   "cell_type": "code",
   "execution_count": 21,
   "metadata": {},
   "outputs": [
    {
     "name": "stdout",
     "output_type": "stream",
     "text": [
      "Matched: https://movies.yahoo.com.tw/movietime_result.html/id=9467\n",
      " group(0): https://movies.yahoo.com.tw/movietime_result.html/id=9467\n",
      " group(1): s://movies.yahoo.com.tw/movietime_result.html/\n",
      " group(2): 9467\n"
     ]
    }
   ],
   "source": [
    "url_tag=html_a_tag = \"<a href=https://movies.yahoo.com.tw/movietime_result.html/id=9467> 時刻表 </a>\"\n",
    "regex=\"http(.*?)id=(\\d*)\"\n",
    "test(regex,url_tag)"
   ]
  },
  {
   "cell_type": "code",
   "execution_count": null,
   "metadata": {},
   "outputs": [],
   "source": []
  }
 ],
 "metadata": {
  "kernelspec": {
   "display_name": "Python 3",
   "language": "python",
   "name": "python3"
  },
  "language_info": {
   "codemirror_mode": {
    "name": "ipython",
    "version": 3
   },
   "file_extension": ".py",
   "mimetype": "text/x-python",
   "name": "python",
   "nbconvert_exporter": "python",
   "pygments_lexer": "ipython3",
   "version": "3.7.6"
  }
 },
 "nbformat": 4,
 "nbformat_minor": 4
}
