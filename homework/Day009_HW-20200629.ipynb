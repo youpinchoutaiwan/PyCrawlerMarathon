{
 "cells": [
  {
   "cell_type": "code",
   "execution_count": 18,
   "metadata": {},
   "outputs": [],
   "source": [
    "import requests\n",
    "import os\n",
    "from bs4 import BeautifulSoup\n",
    "from PIL import Image "
   ]
  },
  {
   "cell_type": "code",
   "execution_count": 19,
   "metadata": {},
   "outputs": [],
   "source": [
    "url=\"https://www.ptt.cc/bbs/Beauty/M.1556291059.A.75A.html\"\n",
    "res=requests.get(url,cookies={\"over18\":\"1\"})\n",
    "soup=BeautifulSoup(res.text)"
   ]
  },
  {
   "cell_type": "code",
   "execution_count": 20,
   "metadata": {},
   "outputs": [],
   "source": [
    "output_dir=\"downloads\"\n",
    "if not os.path.exists(output_dir):\n",
    "    os.makedirs(output_dir)"
   ]
  },
  {
   "cell_type": "code",
   "execution_count": 22,
   "metadata": {},
   "outputs": [
    {
     "name": "stdout",
     "output_type": "stream",
     "text": [
      "Save imagedownloads/Cgb5oo1.jpeg\n",
      "Save imagedownloads/MgjHY4f.jpeg\n",
      "Save imagedownloads/yeoRtAs.jpeg\n",
      "Save imagedownloads/wsauNEW.jpeg\n",
      "Save imagedownloads/IjiETcs.jpeg\n"
     ]
    }
   ],
   "source": [
    "image_tags=soup.find(id=\"main-content\").findChildren(\"a\",recursive=False)\n",
    "for img_tag in image_tags:\n",
    "    if\"imgur\" not in img_tag[\"href\"]:\n",
    "        continue\n",
    "    img_id=img_tag[\"href\"].split(\"/\")[-1]\n",
    "    img_url=\"https://i.imgur.com/{}.jpg\".format(img_id)\n",
    "    with requests.get(img_url,stream=True) as r:\n",
    "        r.raise_for_status()\n",
    "        img=Image.open(r.raw)\n",
    "        img_savename=\"{outdir}/{img_id}.{img_ext}\".format(outdir=output_dir,img_id=img_id,img_ext=img.format.lower())\n",
    "        img.save(img_savename)\n",
    "        print(\"Save image{}\".format(img_savename))\n",
    "                                            \n",
    "    "
   ]
  },
  {
   "cell_type": "code",
   "execution_count": null,
   "metadata": {},
   "outputs": [],
   "source": []
  }
 ],
 "metadata": {
  "kernelspec": {
   "display_name": "Python 3",
   "language": "python",
   "name": "python3"
  },
  "language_info": {
   "codemirror_mode": {
    "name": "ipython",
    "version": 3
   },
   "file_extension": ".py",
   "mimetype": "text/x-python",
   "name": "python",
   "nbconvert_exporter": "python",
   "pygments_lexer": "ipython3",
   "version": "3.7.6"
  }
 },
 "nbformat": 4,
 "nbformat_minor": 4
}
