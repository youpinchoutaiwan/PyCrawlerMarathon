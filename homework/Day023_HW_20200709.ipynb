{
 "cells": [
  {
   "cell_type": "markdown",
   "metadata": {},
   "source": [
    "# Ettoday動態爬蟲練習從東森新聞雲網站中，爬取新聞摘要及詳細內容。"
   ]
  },
  {
   "cell_type": "code",
   "execution_count": 58,
   "metadata": {},
   "outputs": [],
   "source": [
    "import requests\n",
    "import time\n",
    "from bs4 import BeautifulSoup\n",
    "from selenium import webdriver\n",
    "from selenium.webdriver.common.keys import Keys"
   ]
  },
  {
   "cell_type": "markdown",
   "metadata": {},
   "source": [
    "# 以國際新聞為例，先連結到生活新聞首頁，用selenium模擬往下拉網頁"
   ]
  },
  {
   "cell_type": "code",
   "execution_count": 59,
   "metadata": {},
   "outputs": [
    {
     "name": "stdout",
     "output_type": "stream",
     "text": [
      "到達頁面底端\n"
     ]
    }
   ],
   "source": [
    "url=\"https://pets.ettoday.net/focus/%E5%AF%B5%E7%89%A9%E5%A5%BD%E8%90%8C\"\n",
    "browser=webdriver.Chrome()\n",
    "browser.get(url)\n",
    "\n",
    "#模擬往下拉網頁\n",
    "last_height=browser.execute_script(\"return document.body.scrollHeight\")\n",
    "while True:\n",
    "    browser.execute_script(\"window.scrollTo(0, document.body.scrollHeight);\")  #scroll down to bottom\n",
    "    time.sleep(1)  #wait time to load\n",
    "    new_height=browser.execute_script(\"return document.body.scrollHeight\")  #calculate new height\n",
    "    if new_height==last_height:\n",
    "        print(\"到達頁面底端\")\n",
    "        break\n",
    "    print(\"網頁更新中\")"
   ]
  },
  {
   "cell_type": "markdown",
   "metadata": {},
   "source": [
    "# 到達此步驟，所有新聞都已在頁面上，可以開始爬取"
   ]
  },
  {
   "cell_type": "code",
   "execution_count": 60,
   "metadata": {},
   "outputs": [],
   "source": [
    "#建立一個函數，其功能為 (1)連結外部連結 (2)爬取其內容\n",
    "def getdata(link):\n",
    "    res=requests.get(link)\n",
    "    res.encoding=\"utf-8\"\n",
    "    soup=BeautifulSoup(res,\"html5lib\")\n",
    "    content=soup.find(\"div\",{\"class\":\"story\"}).find_all(\"p\")\n",
    "    for a in content:\n",
    "        if ((p.string) is not None):\n",
    "            print(p.string)"
   ]
  },
  {
   "cell_type": "markdown",
   "metadata": {},
   "source": [
    "# 解析HTML並萃取新聞摘要，若有外部的連結，再連到外部連結並把詳細新聞內容抓取下來。"
   ]
  },
  {
   "cell_type": "code",
   "execution_count": 61,
   "metadata": {},
   "outputs": [
    {
     "ename": "AttributeError",
     "evalue": "'int' object has no attribute 'a'",
     "output_type": "error",
     "traceback": [
      "\u001b[1;31m---------------------------------------------------------------------------\u001b[0m",
      "\u001b[1;31mAttributeError\u001b[0m                            Traceback (most recent call last)",
      "\u001b[1;32m<ipython-input-61-b33ff2cfb322>\u001b[0m in \u001b[0;36m<module>\u001b[1;34m\u001b[0m\n\u001b[0;32m      6\u001b[0m \u001b[1;32mfor\u001b[0m \u001b[0mi\u001b[0m \u001b[1;32min\u001b[0m \u001b[0mtitles\u001b[0m\u001b[1;33m:\u001b[0m\u001b[1;33m\u001b[0m\u001b[1;33m\u001b[0m\u001b[0m\n\u001b[0;32m      7\u001b[0m     \u001b[0mB\u001b[0m\u001b[1;33m=\u001b[0m\u001b[0mi\u001b[0m\u001b[1;33m.\u001b[0m\u001b[0mfind\u001b[0m\u001b[1;33m(\u001b[0m\u001b[1;34m\"h3\"\u001b[0m\u001b[1;33m)\u001b[0m\u001b[1;33m\u001b[0m\u001b[1;33m\u001b[0m\u001b[0m\n\u001b[1;32m----> 8\u001b[1;33m     \u001b[0mprint\u001b[0m\u001b[1;33m(\u001b[0m\u001b[0mB\u001b[0m\u001b[1;33m.\u001b[0m\u001b[0ma\u001b[0m\u001b[1;33m.\u001b[0m\u001b[0mstring\u001b[0m\u001b[1;33m)\u001b[0m\u001b[1;33m\u001b[0m\u001b[1;33m\u001b[0m\u001b[0m\n\u001b[0m\u001b[0;32m      9\u001b[0m \u001b[1;33m\u001b[0m\u001b[0m\n\u001b[0;32m     10\u001b[0m     \u001b[0mexternal_link\u001b[0m\u001b[1;33m=\u001b[0m\u001b[1;34m\"https://www.ettoday.net\"\u001b[0m\u001b[1;33m+\u001b[0m \u001b[0mB\u001b[0m\u001b[1;33m.\u001b[0m\u001b[0ma\u001b[0m\u001b[1;33m[\u001b[0m\u001b[1;34m\"href\"\u001b[0m\u001b[1;33m]\u001b[0m\u001b[1;33m\u001b[0m\u001b[1;33m\u001b[0m\u001b[0m\n",
      "\u001b[1;31mAttributeError\u001b[0m: 'int' object has no attribute 'a'"
     ]
    }
   ],
   "source": [
    "# #爬取網頁新聞摘要\n",
    "A=browser.page_source\n",
    "soup=BeautifulSoup(A,\"html5lib\")\n",
    "all_news=soup.find(\"div\",{\"class\":\"block_content infinite_scroll\"})\n",
    "titles=all_news.find(\"div\",{\"class\":\"piece clearfix\"})\n",
    "for i in titles:\n",
    "    B=i.find(\"h3\")\n",
    "    print(B.a.string)\n",
    "   \n",
    "    external_link=\"https://www.ettoday.net\"+ B.a[\"href\"]\n",
    "    getdata(external_link)\n",
    "    print(\"-----------------------------------\")"
   ]
  },
  {
   "cell_type": "code",
   "execution_count": null,
   "metadata": {},
   "outputs": [],
   "source": []
  }
 ],
 "metadata": {
  "kernelspec": {
   "display_name": "Python 3",
   "language": "python",
   "name": "python3"
  },
  "language_info": {
   "codemirror_mode": {
    "name": "ipython",
    "version": 3
   },
   "file_extension": ".py",
   "mimetype": "text/x-python",
   "name": "python",
   "nbconvert_exporter": "python",
   "pygments_lexer": "ipython3",
   "version": "3.7.6"
  }
 },
 "nbformat": 4,
 "nbformat_minor": 4
}
