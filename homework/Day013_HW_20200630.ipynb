{
 "cells": [
  {
   "cell_type": "code",
   "execution_count": 46,
   "metadata": {},
   "outputs": [],
   "source": [
    "import requests\n",
    "from bs4 import BeautifulSoup\n",
    "import pandas as pd\n",
    "url=\"https://www.ptt.cc/bbs/NBA/index.html\"\n",
    "res=requests.get(url)\n",
    "soup=BeautifulSoup(res.text,\"html5lib\")"
   ]
  },
  {
   "cell_type": "code",
   "execution_count": 47,
   "metadata": {
    "scrolled": true
   },
   "outputs": [
    {
     "name": "stdout",
     "output_type": "stream",
     "text": [
      "              作者     時間                                   標題\n",
      "0    willy911006   6/30           [情報] Dean Wade和騎士正式簽下複數年合約\n",
      "1           ckny   6/30      [情報] Danny Green:JR看來不錯，相信會打得很好\n",
      "2   CPBLlincecum   6/30                          [贈送] 舊的籃球雜誌\n",
      "3     thnlkj0665   6/30       [花邊] 對比現今籃球 J-Will:後衛喜歡用得分證明自己\n",
      "4       ericf129   6/30             [新聞] 登報紙全版廣告致敬 老鷹老闆高規格送別\n",
      "5     thnlkj0665   6/30       [情報] Reggie Miller 選出史上最佳射手排行榜\n",
      "6      NSYSUheng   6/30         [情報] 2K21封面球員：Damian Lillard\n",
      "7          Vedan   5/24                          [公告] 板規v6.8\n",
      "8   qazwsx879345  10/25                       [公告] 版主上任相關事項 \n",
      "9        Acetoxy   3/02  [情報] SEASON Schedule 賽程 March 19–20\n",
      "10         Vedan   3/09                [公告] 第一次被退文，可在三天後刪除退文\n",
      "11         Vedan   4/03                       [公告] 板務說明 (發錢)\n"
     ]
    }
   ],
   "source": [
    "#NBA最新文章的「作者」「標題」「時間」\n",
    "authorlist=[]\n",
    "titlelist=[]\n",
    "timelist=[]\n",
    "A=soup.find_all(\"div\",{\"class\":\"r-ent\"})\n",
    "for d in A:\n",
    "    authorlist.append(d.find(class_=\"author\").text.replace('\\t', '').replace('\\n', ''))\n",
    "    titlelist.append(d.find(class_=\"title\").text.replace('\\t', '').replace('\\n', ''))\n",
    "    timelist.append(d.find(class_=\"date\").text.replace('\\t', '').replace('\\n', ''))\n",
    "dic=dict(作者=authorlist,時間=timelist,標題=titlelist)\n",
    "pd.set_option(\"display.max_rows\", None)\n",
    "items=pd.DataFrame(dic)\n",
    "print(items)"
   ]
  },
  {
   "cell_type": "code",
   "execution_count": 48,
   "metadata": {},
   "outputs": [
    {
     "name": "stdout",
     "output_type": "stream",
     "text": [
      "            作者     時間                         標題\n",
      "0        Price   5/16    [轉錄]Lyotard 對於太陽板討論串的結論\n",
      "1        Price   5/31        [公告] 請停止一切關於本次活動的發言\n",
      "2     Frankaze   6/08   [轉錄]跟之前那篇比起來 我覺得這篇也應該轉過來\n",
      "3     Frankaze   6/08                [轉錄]再轉一篇好文來\n",
      "4        Price   6/10           [轉錄][情報] 夏洛特山貓系列\n",
      "5        Price   6/10   [轉錄]Re: [心得] 真是受不了糗爺....\n",
      "6        Price   6/10            [轉錄]總冠軍賽NO.2觀後感\n",
      "7   AmuroNamie   6/11       [心得] Rasheed Wallace\n",
      "8      toptree   6/12                    掌控球賽的男人\n",
      "9      skchang   6/12        [閒聊] 說說2004季後賽名場面回顧\n",
      "10     shineup   6/12     [心得] 其實說穿了 就是活塞的防守太可怕了\n",
      "11        cOvi   6/12    Re: [閒聊] 說說2004季後賽名場面回顧\n",
      "12      ykshih   6/12    Re: [閒聊] 說說2004季後賽名場面回顧\n",
      "13    Frankaze   6/12    Re: [閒聊] 說說2004季後賽名場面回顧\n",
      "14       Price   6/14        [轉錄]Re: 總冠軍賽NO.3觀後感\n",
      "15    Frankaze   6/14        [轉錄]Re: 總冠軍賽NO.3觀後感\n",
      "16       star1   6/14    Re: [轉錄]Re: 總冠軍賽NO.3觀後感\n",
      "17  coldspring   6/14    Re: [轉錄]Re: 總冠軍賽NO.3觀後感\n",
      "18     airbear   6/14  Re: Kobe is frustrated...\n",
      "19   pennykidd   6/14    Re: [轉錄]Re: 總冠軍賽NO.3觀後感\n"
     ]
    }
   ],
   "source": [
    "#第一頁所有文章的「作者」「標題」「時間」\n",
    "pages=soup.find_all(\"a\",{\"class\":\"btn wide\"})\n",
    "for page in pages:\n",
    "    if \"最舊\" in page:\n",
    "        oldurl=\"https://www.ptt.cc\"+page[\"href\"]\n",
    "res=requests.get(oldurl)\n",
    "soup=BeautifulSoup(res.text,\"html5lib\")\n",
    "authorlist=[]\n",
    "titlelist=[]\n",
    "timelist=[]\n",
    "A=soup.find_all(\"div\",{\"class\":\"r-ent\"})\n",
    "for d in A:\n",
    "    authorlist.append(d.find(class_=\"author\").text.replace('\\t', '').replace('\\n', ''))\n",
    "    titlelist.append(d.find(class_=\"title\").text.replace('\\t', '').replace('\\n', ''))\n",
    "    timelist.append(d.find(class_=\"date\").text.replace('\\t', '').replace('\\n', ''))\n",
    "dic=dict(作者=authorlist,時間=timelist,標題=titlelist)\n",
    "pd.set_option(\"display.max_rows\", None)\n",
    "items=pd.DataFrame(dic)\n",
    "print(items)\n"
   ]
  },
  {
   "cell_type": "code",
   "execution_count": 49,
   "metadata": {},
   "outputs": [
    {
     "name": "stdout",
     "output_type": "stream",
     "text": [
      "             作者     時間                         標題\n",
      "0     lin041276   6/16      [送養] 狗-台中-比利時馬犬（已被領養）\n",
      "1        ya8646   6/18            [送養] 狗-黑色-黑狗待領養\n",
      "2     smallgrid   6/20   [取消] 新北-兔-有混到獅子兔的兔寶（已送養）\n",
      "3      jl830830   6/21  [送養] 貓-台中-棕色斑點幼貓2隻（均已被認養）\n",
      "4        SUYACH   6/21           [送養] 北部 可愛黑貓兄妹找家\n",
      "5        han718   6/22            [送養] 可愛虎斑貓（求包養）\n",
      "6             -   6/27          (本文已被刪除) [piece4]\n",
      "7         aa77a   6/30        [送養] 貓-宜蘭/台北-親人小貓找家\n",
      "8    babababala   6/30          [送養] 桃園/撒嬌親人四眼米克斯\n",
      "9      svaoipoo   4/15  [轉錄][轉貼] 緊急 ~ 請不要再說會害死牠的話\n",
      "10      pog0615  10/23      [公告] 認養板板規 小寫z進精華區看補充\n",
      "11      pog0615   6/10   [公告] 文章標題使用須知 文章前大寫T修改標題\n",
      "12  sweetpotapo   4/01           [其他] 送養寵物 免費拍照服務\n",
      "13    fpdkdnhoo   8/28                  [其他] 幫忙攝影\n"
     ]
    }
   ],
   "source": [
    "#試試看爬其他版\n",
    "url=\"https://www.ptt.cc/bbs/Pet_Get/index.html\"\n",
    "res=requests.get(url)\n",
    "soup=BeautifulSoup(res.text,\"html5lib\")\n",
    "authorlist=[]\n",
    "titlelist=[]\n",
    "timelist=[]\n",
    "A=soup.find_all(\"div\",{\"class\":\"r-ent\"})\n",
    "for d in A:\n",
    "    authorlist.append(d.find(class_=\"author\").text.replace('\\t', '').replace('\\n', ''))\n",
    "    titlelist.append(d.find(class_=\"title\").text.replace('\\t', '').replace('\\n', ''))\n",
    "    timelist.append(d.find(class_=\"date\").text.replace('\\t', '').replace('\\n', ''))\n",
    "dic=dict(作者=authorlist,時間=timelist,標題=titlelist)\n",
    "pd.set_option(\"display.max_rows\", None)\n",
    "items=pd.DataFrame(dic)\n",
    "print(items)\n",
    "                                       \n",
    "    "
   ]
  },
  {
   "cell_type": "code",
   "execution_count": null,
   "metadata": {},
   "outputs": [],
   "source": []
  }
 ],
 "metadata": {
  "kernelspec": {
   "display_name": "Python 3",
   "language": "python",
   "name": "python3"
  },
  "language_info": {
   "codemirror_mode": {
    "name": "ipython",
    "version": 3
   },
   "file_extension": ".py",
   "mimetype": "text/x-python",
   "name": "python",
   "nbconvert_exporter": "python",
   "pygments_lexer": "ipython3",
   "version": "3.7.6"
  }
 },
 "nbformat": 4,
 "nbformat_minor": 4
}
